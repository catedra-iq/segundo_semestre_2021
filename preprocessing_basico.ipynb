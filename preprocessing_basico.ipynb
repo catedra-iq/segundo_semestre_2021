{
 "cells": [
  {
   "cell_type": "code",
   "execution_count": 1,
   "metadata": {},
   "outputs": [],
   "source": [
    "import pandas as pd\n",
    "import matplotlib.pyplot as plt\n",
    "import numpy as np\n",
    "from sklearn.preprocessing import MinMaxScaler\n",
    "import seaborn as sns\n",
    "import re"
   ]
  },
  {
   "cell_type": "code",
   "execution_count": 2,
   "metadata": {},
   "outputs": [],
   "source": [
    "df=pd.read_excel(\"todos.xlsx\")\n",
    "df2=pd.read_excel(\"com1.xlsx\")"
   ]
  },
  {
   "cell_type": "code",
   "execution_count": 5,
   "metadata": {},
   "outputs": [],
   "source": [
    "scaler=MinMaxScaler()\n",
    "df[\"fullname\"]=df[\"Nombre\"] + df[\"Apellido(s)\"]\n",
    "df2[\"fullname\"]=df2[\"Nombre\"] + df2[\"Apellido(s)\"]\n",
    "df[\"hash\"]=df.fullname.map(lambda x: hash(x))\n",
    "df2[\"hash\"]=df2.fullname.map(lambda x: hash(x))\n",
    "parcial_com1=pd.concat([df[df.hash==code] for code in df2.hash])\n",
    "parcial_com1=parcial_com1.iloc[:,~parcial_com1.replace({\"-\":np.nan}).isnull().all().values[..., np.newaxis]].copy()\n",
    "parcial_com1.drop(columns=['Nombre', 'Apellido(s)', 'Número de ID', 'Dirección de correo','Total del curso (Real)', 'Última descarga de este curso', 'fullname'], inplace=True)\n",
    "parcial_com1.replace(\"-\",\"0\", inplace=True)\n",
    "evaluaciones_com1=df2.iloc[:,~df2.replace({\"-\":np.nan}).isnull().all().values[..., np.newaxis]].copy()\n",
    "evaluaciones_com1.drop(columns=['Nombre', 'Apellido(s)', 'Número de ID', 'Dirección de correo','Total del curso (Real)', 'Última descarga de este curso', 'fullname'], inplace=True)\n",
    "evaluaciones_com1.replace(\"-\",\"0\", inplace=True)\n",
    "datacols=[col for col in evaluaciones_com1 if \"hash\" not in col]\n",
    "data_evs=scaler.fit_transform(evaluaciones_com1[datacols])\n",
    "todas_evs_c1=pd.DataFrame(data=data_evs, index=evaluaciones_com1.hash,columns=datacols)\n",
    "ev_control=todas_evs_c1.loc[:,[col for col in todas_evs_c1.columns if \"Control\" in col]]\n",
    "datacols_p=[col for col in parcial_com1 if \"hash\" not in col]\n",
    "data_parc=scaler.fit_transform(parcial_com1[datacols_p])\n",
    "parcial_c1=pd.DataFrame(data=data_parc, index=parcial_com1.hash,columns=datacols_p)\n",
    "\n",
    "ev_control.to_csv(\"ev_control.csv\")\n",
    "parcial_c1.to_csv(\"parcial_c1.csv\")\n"
   ]
  }
 ],
 "metadata": {
  "interpreter": {
   "hash": "691ba0a640accbde321ebd19d675ec83c236a7979242fc26d3c0f726afd0f178"
  },
  "kernelspec": {
   "display_name": "Python 3",
   "language": "python",
   "name": "python3"
  },
  "language_info": {
   "codemirror_mode": {
    "name": "ipython",
    "version": 3
   },
   "file_extension": ".py",
   "mimetype": "text/x-python",
   "name": "python",
   "nbconvert_exporter": "python",
   "pygments_lexer": "ipython3",
   "version": "3.9.7"
  }
 },
 "nbformat": 4,
 "nbformat_minor": 4
}
