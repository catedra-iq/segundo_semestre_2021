{
 "cells": [
  {
   "cell_type": "code",
   "execution_count": 7,
   "metadata": {},
   "outputs": [],
   "source": [
    "import pandas as pd\n",
    "import numpy as np\n",
    "from sklearn.preprocessing import MinMaxScaler"
   ]
  },
  {
   "cell_type": "code",
   "execution_count": 3,
   "metadata": {},
   "outputs": [],
   "source": [
    "df=pd.read_excel(\"todos.xlsx\")\n",
    "df2=pd.read_excel(\"com1.xlsx\")"
   ]
  },
  {
   "cell_type": "code",
   "execution_count": 23,
   "metadata": {},
   "outputs": [],
   "source": [
    "scaler=MinMaxScaler()\n",
    "df[\"fullname\"]=df[\"Nombre\"] + df[\"Apellido(s)\"]\n",
    "df2[\"fullname\"]=df2[\"Nombre\"] + df2[\"Apellido(s)\"]\n",
    "df[\"hash\"]=df.fullname.map(lambda x: hash(x))\n",
    "df2[\"hash\"]=df2.fullname.map(lambda x: hash(x))\n",
    "parcial_com1=pd.concat([df[df.hash==code] for code in df2.hash])\n",
    "parcial_com1=parcial_com1.iloc[:,~parcial_com1.replace({\"-\":np.nan}).isnull().all().values[..., np.newaxis]].copy()\n",
    "parcial_com1.drop(columns=['Nombre', 'Apellido(s)', 'Número de ID', 'Dirección de correo','Total del curso (Real)', 'Última descarga de este curso', 'fullname'], inplace=True)\n",
    "evaluaciones_com1=df2.iloc[:,~df2.replace({\"-\":np.nan}).isnull().all().values[..., np.newaxis]].copy()\n",
    "evaluaciones_com1.drop(columns=['Nombre', 'Apellido(s)', 'Número de ID', 'Dirección de correo','Total del curso (Real)', 'Última descarga de este curso', 'fullname'], inplace=True)\n",
    "evaluaciones_com1.replace(\"-\",\"0\", inplace=True)\n",
    "datacols=[col for col in evaluaciones_com1 if \"hash\" not in col]\n",
    "data_evs=scaler.fit_transform(evaluaciones_com1[datacols])\n",
    "todas_evs_c1=pd.DataFrame(data=data_evs, index=evaluaciones_com1.hash,columns=datacols)"
   ]
  },
  {
   "cell_type": "code",
   "execution_count": 35,
   "metadata": {},
   "outputs": [
    {
     "data": {
      "text/plain": [
       "(55, 41)"
      ]
     },
     "execution_count": 35,
     "metadata": {},
     "output_type": "execute_result"
    }
   ],
   "source": [
    "parcial_com2.shape"
   ]
  },
  {
   "cell_type": "markdown",
   "metadata": {},
   "source": []
  }
 ],
 "metadata": {
  "interpreter": {
   "hash": "691ba0a640accbde321ebd19d675ec83c236a7979242fc26d3c0f726afd0f178"
  },
  "kernelspec": {
   "display_name": "Python 3.9.7 64-bit ('base': conda)",
   "language": "python",
   "name": "python3"
  },
  "language_info": {
   "codemirror_mode": {
    "name": "ipython",
    "version": 3
   },
   "file_extension": ".py",
   "mimetype": "text/x-python",
   "name": "python",
   "nbconvert_exporter": "python",
   "pygments_lexer": "ipython3",
   "version": "3.9.7"
  },
  "orig_nbformat": 4
 },
 "nbformat": 4,
 "nbformat_minor": 2
}
